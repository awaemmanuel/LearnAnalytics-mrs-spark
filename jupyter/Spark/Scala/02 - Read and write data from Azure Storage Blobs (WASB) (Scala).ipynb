{
 "cells": [
  {
   "cell_type": "markdown",
   "metadata": {},
   "source": [
    "# Working with data stored in WASB\n",
    "\n",
    "Azure Storage Blob (WASB) is used as the storage account associated with an HDInsight cluster. An HDInsight cluster can have a default storage and additional storage. The URL to access the cluster storage is:\n",
    "\n",
    "    wasb[s]://<container_name>@<storage_account_name>.blob.core.windows.net/<path>\n",
    "    \n",
    "The URL to access only the default storage is:\n",
    "\n",
    "    wasb[s]:///<path>\n",
    "\n",
    "This notebook provides examples of how to read data from WASB into a Spark context and then perform operations on that data. The notebook also provides examples of how to write the output of Spark jobs directly into a WASB location.\n"
   ]
  },
  {
   "cell_type": "markdown",
   "metadata": {},
   "source": [
    "-------\n",
    "## Read data from WASB into Spark\n",
    "\n",
    "The examples below read from the default storage account associated with your Spark cluster so the URL used in the examples is `wasb:///<path>`. However, you can also read from an additional storage account with the following syntax:\n",
    "\n",
    "    wasb[s]://<containername>@<accountname>.blob.core.windows.net/<path>"
   ]
  },
  {
   "cell_type": "markdown",
   "metadata": {},
   "source": [
    "----------\n",
    "## Notebook setup\n",
    "\n",
    "When using Spark kernel notebooks on HDInsight, there is no need to create a SparkContext or a HiveContext; those are all created for you automatically when you run the first code cell, and you'll be able to see the progress printed. The contexts are created with the following variable names:\n",
    "- SparkContext (sc)\n",
    "- HiveContext (sqlContext)\n",
    "\n",
    "To run the cells below, place the cursor in the cell and then press **SHIFT + ENTER**."
   ]
  },
  {
   "cell_type": "markdown",
   "metadata": {},
   "source": [
    "### Create an RDD of strings"
   ]
  },
  {
   "cell_type": "code",
   "execution_count": null,
   "metadata": {
    "collapsed": false
   },
   "outputs": [],
   "source": [
    "/* textLines is an RDD of strings */\n",
    "val textLines = sc.textFile(\"wasb:///example/data/gutenberg/ulysses.txt\")"
   ]
  },
  {
   "cell_type": "markdown",
   "metadata": {},
   "source": [
    "### Create an RDD of key-value pairs"
   ]
  },
  {
   "cell_type": "code",
   "execution_count": null,
   "metadata": {
    "collapsed": false
   },
   "outputs": [],
   "source": [
    "/* seqFile is an RDD of key-value pairs */\n",
    "val seqFile = sc.sequenceFile[String, Int](\"wasb:///example/data/people.seq\")"
   ]
  },
  {
   "cell_type": "markdown",
   "metadata": {},
   "source": [
    "### Create a dataframe from parquet files\n",
    "\n",
    "Create a dataframe from an input parquet file. For more information about parquet files, see [here](http://spark.apache.org/docs/1.6.2/sql-programming-guide.html#parquet-files)."
   ]
  },
  {
   "cell_type": "code",
   "execution_count": null,
   "metadata": {
    "collapsed": false
   },
   "outputs": [],
   "source": [
    "/* parquetFile is a dataframe that matches the schema of the input parquet file */\n",
    "val parquetFile = sqlContext.read.parquet(\"wasb:///example/data/people.parquet\")"
   ]
  },
  {
   "cell_type": "markdown",
   "metadata": {},
   "source": [
    "### Create a dataframe from JSON document\n",
    "\n",
    "Create a dataframe that matches the schema of the input JSON document."
   ]
  },
  {
   "cell_type": "code",
   "execution_count": null,
   "metadata": {
    "collapsed": false
   },
   "outputs": [],
   "source": [
    "/* jsonFile is a dataframe that matches the schema of the input JSON file */\n",
    "val jsonFile = sqlContext.read.json(\"wasb:///example/data/people.json\")"
   ]
  },
  {
   "cell_type": "markdown",
   "metadata": {},
   "source": [
    "### Create an RDD from CSV files\n",
    "\n",
    "CSV is not a first-class input data format supported by Spark, so it is not as easy to perform operations on a CSV file in Spark. For simple CSV files, this approach will work: first, load the CSV file as a text file and then apply a map operation to parse the individual lines."
   ]
  },
  {
   "cell_type": "code",
   "execution_count": null,
   "metadata": {
    "collapsed": false
   },
   "outputs": [],
   "source": [
    "/* csvFile is an RDD of lists, each list representing a line in the CSV file */\n",
    "val csvFile = (sc.textFile(\"wasb:///HdiSamples/HdiSamples/SensorSampleData/building/building.csv\")\n",
    "                 .map((line) => line.split(\",\")))"
   ]
  },
  {
   "cell_type": "markdown",
   "metadata": {},
   "source": [
    "------\n",
    "## Write data from Spark to WASB in different formats\n",
    "\n",
    "The examples below show you how to write output data from Spark directly into the storage accounts associated with your Spark cluster. If you are writing to the default storage account, you can provide the output path like this:\n",
    "\n",
    "    wasb[s]:///<path>\n",
    "\n",
    "If you are writing to additional storage accounts associated with the cluster, you must provide the output path like this:\n",
    "\n",
    "    wasb[s]://<container_name>@<storage_account_name>.blob.core.windows.net/<path>"
   ]
  },
  {
   "cell_type": "markdown",
   "metadata": {},
   "source": [
    "### Save an RDD as text files\n",
    "\n",
    "If you have an RDD, you can convert it to a text file like the following:"
   ]
  },
  {
   "cell_type": "code",
   "execution_count": null,
   "metadata": {
    "collapsed": false
   },
   "outputs": [],
   "source": [
    "/* textLines is an RDD converted into a text file */\n",
    "textLines.saveAsTextFile(\"wasb:///example/data/gutenberg/ulysses2sc.txt\")"
   ]
  },
  {
   "cell_type": "markdown",
   "metadata": {},
   "source": [
    "### Save a dataframe as text files\n",
    "\n",
    "If you have a dataframe that you want to save as a text file, you must first convert it to an RDD and then save that RDD as a text file."
   ]
  },
  {
   "cell_type": "code",
   "execution_count": null,
   "metadata": {
    "collapsed": false
   },
   "outputs": [],
   "source": [
    "/* parquetFile is a dataframe converted into RDD. parquetRDD is then converted into a text file. */\n",
    "val parquetRDD = parquetFile.rdd\n",
    "parquetRDD.saveAsTextFile(\"wasb:///example/data/peoplesc.txt\")"
   ]
  },
  {
   "cell_type": "markdown",
   "metadata": {},
   "source": [
    "### Save a dataframe as parquet or JSON\n",
    "\n",
    "If you have a dataframe, you can save it to Parquet or JSON with the `.write.parquet()` and `.write.json()` methods respectively."
   ]
  },
  {
   "cell_type": "code",
   "execution_count": null,
   "metadata": {
    "collapsed": false
   },
   "outputs": [],
   "source": [
    "parquetFile.write.parquet(\"wasb:///example/data/people2sc.parquet\")\n",
    "jsonFile.write.json(\"wasb:///example/data/people2sc.json\")"
   ]
  },
  {
   "cell_type": "markdown",
   "metadata": {},
   "source": [
    "Note that since both parquetFile and jsonFile are dataframes, we can save them in any format, regardless of the input format.\n"
   ]
  },
  {
   "cell_type": "code",
   "execution_count": null,
   "metadata": {
    "collapsed": false
   },
   "outputs": [],
   "source": [
    "parquetFile.write.json(\"wasb:///example/data/people3sc.json\")\n",
    "jsonFile.write.parquet(\"wasb:///example/data/people3sc.parquet\")"
   ]
  },
  {
   "cell_type": "markdown",
   "metadata": {},
   "source": [
    "If you have an RDD and want to save it as a parquet file or JSON file, you'll have to \n",
    "convert it to a dataframe. See [Interoperating with RDDs](http://spark.apache.org/docs/1.6.2/sql-programming-guide.html#interoperating-with-rdds) for more information."
   ]
  },
  {
   "cell_type": "markdown",
   "metadata": {},
   "source": [
    "### Save an RDD of key-value pairs as a sequence file"
   ]
  },
  {
   "cell_type": "code",
   "execution_count": null,
   "metadata": {
    "collapsed": false
   },
   "outputs": [],
   "source": [
    "/* If your RDD isn't made up of key-value pairs then you'll get a runtime error. */\n",
    "seqFile.saveAsSequenceFile(\"wasb:///example/data/people2sc.seq\")"
   ]
  },
  {
   "cell_type": "markdown",
   "metadata": {},
   "source": [
    "### Save an RDD as a CSV file\n",
    "\n",
    "Because CSV is not natively supported by Spark, so there is no built-in way to write an RDD to a CSV file. However, you can work around this if you want to save your data as CSV. "
   ]
  },
  {
   "cell_type": "code",
   "execution_count": null,
   "metadata": {
    "collapsed": false
   },
   "outputs": [],
   "source": [
    "csvFile.map((line) => line.mkString(\",\")).saveAsTextFile(\"wasb:///example/data/HVAC2sc.csv\")"
   ]
  }
 ],
 "metadata": {
  "kernelspec": {
   "display_name": "Spark",
   "language": "",
   "name": "sparkkernel"
  },
  "language_info": {
   "mimetype": "text/x-scala",
   "name": "scala",
   "pygments_lexer": "scala"
  }
 },
 "nbformat": 4,
 "nbformat_minor": 0
}
