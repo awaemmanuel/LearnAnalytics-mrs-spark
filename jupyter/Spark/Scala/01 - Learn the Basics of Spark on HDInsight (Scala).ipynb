{
 "cells": [
  {
   "cell_type": "markdown",
   "metadata": {},
   "source": [
    "# Basics of Spark on HDInsight\n",
    "\n",
    "<a href=\"http://spark.apache.org/\" target=\"_blank\">Apache Spark</a> is an open-source parallel processing framework that supports in-memory processing to boost the performance of big-data analytic applications. When you provision a Spark cluster in HDInsight, you provision Azure compute resources with Spark installed and configured. The data to be processed is stored in Azure Blob storage (WASB).\n",
    "\n",
    "![Spark on HDInsight](https://mysstorage.blob.core.windows.net/notebookimages/overview/SparkArchitecture.png \"Spark on HDInsight\")"
   ]
  },
  {
   "cell_type": "markdown",
   "metadata": {},
   "source": [
    "Now that you have created a Spark cluster, let us understand some basics of working with Spark on HDInsight. For detailed discussion on working with Spark, see [Spark Programming Guide](https://spark.apache.org/docs/1.6.2/programming-guide.html)."
   ]
  },
  {
   "cell_type": "markdown",
   "metadata": {},
   "source": [
    "----------\n",
    "## Notebook setup\n",
    "\n",
    "When using Spark kernel notebooks on HDInsight, there is no need to create a SparkContext or a HiveContext; those are all created for you automatically when you run the first code cell, and you'll be able to see the progress printed. The contexts are created with the following variable names:\n",
    "- SparkContext (sc)\n",
    "- HiveContext (sqlContext)\n",
    "\n",
    "To run the cells below, place the cursor in the cell and then press **SHIFT + ENTER**."
   ]
  },
  {
   "cell_type": "markdown",
   "metadata": {},
   "source": [
    "----------\n",
    "\n",
    "## What is an RDD?\n",
    "\n",
    "Big Data applications rely on iterative, distributed computing for faster processing of large data sets. To distribute data processing over multiple jobs, the data is typically reused or shared across jobs. To share data between  existing distributed computing systems you need to store data in some intermediate stable distributed store such as HDFS. This makes the overall computations of jobs slower.\n",
    "\n",
    "**Resilient Distributed Datasets** or RDDs address this by enabling fault-tolerant, distributed, in-memory computations.\n",
    "\n",
    "----------\n",
    "\n",
    "## How do I make an RDD?\n",
    "\n",
    "RDDs can be created from stable storage or by transforming other RDDs. Run the cells below to create RDDs from the sample data files available in the storage container associated with your Spark cluster. One such sample data file is available on the cluster at `wasb:///example/data/fruits.txt`. \n",
    "\n",
    "To run the snippets in the cells, place the cursor in the cell below and press **SHIFT + ENTER**. You can also click the **Run Cell** button from the menu above."
   ]
  },
  {
   "cell_type": "code",
   "execution_count": null,
   "metadata": {
    "collapsed": false
   },
   "outputs": [],
   "source": [
    "val fruits = sc.textFile(\"wasb:///example/data/fruits.txt\")\n",
    "val yellowThings = sc.textFile(\"wasb:///example/data/yellowthings.txt\")"
   ]
  },
  {
   "cell_type": "markdown",
   "metadata": {},
   "source": [
    "For more examples on how to create RDDs see the following notebooks available with your Spark cluster:\n",
    "\n",
    "* Read and write data from Azure Storage Blobs (WASB)\n",
    "* Read and write data from Hive tables"
   ]
  },
  {
   "cell_type": "markdown",
   "metadata": {},
   "source": [
    "----------\n",
    "\n",
    "## What are RDD operations?\n",
    "RDDs support two types of operations: transformations and actions.\n",
    "\n",
    "* **Transformations** create a new dataset from an existing one. Transformations are lazy, meaning that no transformation is executed until you execute an action.\n",
    "* **Actions** return a value to the driver program after running a computation on the dataset.\n",
    "\n",
    "### RDD transformations\n",
    "Following are examples of some of the common transformations available. For a detailed list, see [RDD Transformations](https://spark.apache.org/docs/1.6.2/programming-guide.html#transformations)\n",
    "\n",
    "Run some transformations below to understand this better. Place the cursor in the cell and press **SHIFT + ENTER**."
   ]
  },
  {
   "cell_type": "code",
   "execution_count": null,
   "metadata": {
    "collapsed": false
   },
   "outputs": [],
   "source": [
    "/* map */\n",
    "val fruitsReversed = fruits.map((fruit) => fruit.reverse)"
   ]
  },
  {
   "cell_type": "code",
   "execution_count": null,
   "metadata": {
    "collapsed": false
   },
   "outputs": [],
   "source": [
    "/* filter */\n",
    "val shortFruits = fruits.filter((fruit) =>  fruit.length <= 5)"
   ]
  },
  {
   "cell_type": "code",
   "execution_count": null,
   "metadata": {
    "collapsed": false
   },
   "outputs": [],
   "source": [
    "/* flatMap */\n",
    "val characters = fruits.flatMap((fruit) => fruit.toList)"
   ]
  },
  {
   "cell_type": "code",
   "execution_count": null,
   "metadata": {
    "collapsed": false
   },
   "outputs": [],
   "source": [
    "/* union */\n",
    "val fruitsAndYellowThings = fruits.union(yellowThings)"
   ]
  },
  {
   "cell_type": "code",
   "execution_count": null,
   "metadata": {
    "collapsed": false
   },
   "outputs": [],
   "source": [
    "/* intersection */\n",
    "val yellowFruits = fruits.intersection(yellowThings)"
   ]
  },
  {
   "cell_type": "code",
   "execution_count": null,
   "metadata": {
    "collapsed": false
   },
   "outputs": [],
   "source": [
    "/* distinct */\n",
    "val distinctFruitsAndYellowThings = fruitsAndYellowThings.distinct()"
   ]
  },
  {
   "cell_type": "code",
   "execution_count": null,
   "metadata": {
    "collapsed": false
   },
   "outputs": [],
   "source": [
    "/* groupByKey */\n",
    "val yellowThingsByFirstLetter = yellowThings.map((thing) => (thing(0), thing)).groupByKey()"
   ]
  },
  {
   "cell_type": "code",
   "execution_count": null,
   "metadata": {
    "collapsed": false
   },
   "outputs": [],
   "source": [
    "/* reduceByKey */\n",
    "val numFruitsByLength = fruits.map((fruit) => (fruit.length, 1)).reduceByKey((x, y) => x + y)"
   ]
  },
  {
   "cell_type": "markdown",
   "metadata": {},
   "source": [
    "### RDD actions\n",
    "Following are examples of some of the common actions available. For a detailed list, see [RDD Actions](https://spark.apache.org/docs/1.6.2/programming-guide.html#actions).\n",
    "\n",
    "Run some transformations below to understand this better. Place the cursor in the cell and press **SHIFT + ENTER**."
   ]
  },
  {
   "cell_type": "code",
   "execution_count": null,
   "metadata": {
    "collapsed": false
   },
   "outputs": [],
   "source": [
    "/* collect */\n",
    "val fruitsArray = fruits.collect()\n",
    "val yellowThingsArray = yellowThings.collect()"
   ]
  },
  {
   "cell_type": "code",
   "execution_count": null,
   "metadata": {
    "collapsed": false
   },
   "outputs": [],
   "source": [
    "/* count */\n",
    "val numFruits = fruits.count()"
   ]
  },
  {
   "cell_type": "code",
   "execution_count": null,
   "metadata": {
    "collapsed": false
   },
   "outputs": [],
   "source": [
    "/* take */\n",
    "val first3Fruits = fruits.take(3)"
   ]
  },
  {
   "cell_type": "code",
   "execution_count": null,
   "metadata": {
    "collapsed": false
   },
   "outputs": [],
   "source": [
    "/* reduce */\n",
    "val letterSet = fruits.map((fruit) => fruit.toSet).reduce((x, y) => x ++ y)"
   ]
  },
  {
   "cell_type": "markdown",
   "metadata": {},
   "source": [
    "> **IMPORTANT**: Another important RDD action is saving the output to a file. See the **Read and write data from Azure Storage Blobs (WASB)** notebook for more information."
   ]
  },
  {
   "cell_type": "markdown",
   "metadata": {},
   "source": [
    "----------\n",
    "\n",
    "## What is a dataframe?\n",
    "\n",
    "The `pyspark.sql` library provides an alternative API for manipulating structured datasets, known as \"dataframes\". (Dataframes are not a Spark-specific concept but `pyspark` provides its own dedicated dataframe library.) These are different from RDDs, but you can convert an RDD into a dataframe or vice-versa, if required.\n",
    "\n",
    "See [Spark SQL and DataFrame Guide](https://spark.apache.org/docs/1.6.2/sql-programming-guide.html#dataframes) for more information.\n",
    "\n",
    "### How do I make a dataframe?\n",
    "\n",
    "You can load a dataframe directly from an input data source. See the following notebooks included with your Spark cluster for more information.\n",
    "\n",
    "* Read and write data from Azure Storage Blobs (WASB)\n",
    "* Read and write data from Hive tables\n",
    "\n",
    "You can also create a dataframe from an RDD by specifying the schema of the dataframe as shown in the snippet below."
   ]
  },
  {
   "cell_type": "code",
   "execution_count": null,
   "metadata": {
    "collapsed": false
   },
   "outputs": [],
   "source": [
    "import org.apache.spark.sql.types.{StructType,StructField,StringType,IntegerType};\n",
    "import org.apache.spark.sql.Row;\n",
    "val buildings = (sc.textFile(\"wasb:///HdiSamples/HdiSamples/SensorSampleData/building/building.csv\")\n",
    "                   .map((line) => line.split(\",\"))\n",
    "                   .filter((r) => r(0) != \"BuildingID\")\n",
    "                   .map((r) => Row(r(0).toInt, r(1), r(2).toInt, r(3), r(4))))\n",
    "val schema = StructType(List(StructField(\"BuildingID\", IntegerType, true),\n",
    "                             StructField(\"BuildingMgr\", StringType, true),\n",
    "                             StructField(\"BuildingAge\", IntegerType, true),\n",
    "                             StructField(\"HVACProduct\", StringType, true),\n",
    "                             StructField(\"Country\", StringType, true)))\n",
    "val df = sqlContext.createDataFrame(buildings, schema)"
   ]
  },
  {
   "cell_type": "markdown",
   "metadata": {},
   "source": [
    "-------\n",
    "\n",
    "## Spark SQL and dataframes\n",
    "\n",
    "You can run SQL queries over dataframes once you register them as temporary tables within the SQL context. Run the snippet below to see an example."
   ]
  },
  {
   "cell_type": "code",
   "execution_count": null,
   "metadata": {
    "collapsed": false
   },
   "outputs": [],
   "source": [
    "/* Register the dataframe as a temporary table called HVAC */\n",
    "df.registerTempTable(\"HVAC\")"
   ]
  },
  {
   "cell_type": "markdown",
   "metadata": {},
   "source": [
    "The HDInsight Spark kernel supports easy inline SQL queries. Simply type `%sql` followed by a SQL query to run a SQL query on a dataframe."
   ]
  },
  {
   "cell_type": "code",
   "execution_count": null,
   "metadata": {
    "collapsed": false
   },
   "outputs": [],
   "source": [
    "%%sql \n",
    "SELECT * FROM HVAC WHERE BuildingAge >= 10"
   ]
  },
  {
   "cell_type": "code",
   "execution_count": null,
   "metadata": {
    "collapsed": false
   },
   "outputs": [],
   "source": [
    "%%sql \n",
    "SELECT BuildingID, Country FROM HVAC LIMIT 3"
   ]
  }
 ],
 "metadata": {
  "kernelspec": {
   "display_name": "Spark",
   "language": "",
   "name": "sparkkernel"
  },
  "language_info": {
   "mimetype": "text/x-scala",
   "name": "scala",
   "pygments_lexer": "scala"
  }
 },
 "nbformat": 4,
 "nbformat_minor": 0
}
