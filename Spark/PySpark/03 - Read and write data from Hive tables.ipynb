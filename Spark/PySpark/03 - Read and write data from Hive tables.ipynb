{
 "cells": [
  {
   "cell_type": "markdown",
   "metadata": {},
   "source": [
    "# Working with Hive tables using Spark\n",
    "\n",
    "You can use the Spark execution engine to run Hive queries. In this notebook, you look at examples on how to read data from a Hive table and how to write data back into a Hive table."
   ]
  },
  {
   "cell_type": "markdown",
   "metadata": {},
   "source": [
    "----------\n",
    "## Notebook setup\n",
    "\n",
    "When using PySpark kernel notebooks on HDInsight, there is no need to create a SparkContext or a HiveContext; those are all created for you automatically when you run the first code cell, and you'll be able to see the progress printed. The contexts are created with the following variable names:\n",
    "- SparkContext (sc)\n",
    "- HiveContext (sqlContext)\n",
    "\n",
    "To run the cells below, place the cursor in the cell and then press **SHIFT + ENTER**."
   ]
  },
  {
   "cell_type": "markdown",
   "metadata": {},
   "source": [
    "-----\n",
    "## Reading data from Hive\n",
    "\n",
    "To start with, let's first see what we have in our Hive store. Run the snippet below. At a minimum this should return a table called **hivesampletable**. hivesampletable is a default table that is included with the Spark HDInsight cluster."
   ]
  },
  {
   "cell_type": "code",
   "execution_count": null,
   "metadata": {
    "collapsed": false
   },
   "outputs": [],
   "source": [
    "%%sql\n",
    "SHOW TABLES"
   ]
  },
  {
   "cell_type": "markdown",
   "metadata": {},
   "source": [
    "You can then create dataframe from the `hivesampletable`. The snippet below creates a dataframe that you can perform any dataframe operation on. This dataframe contains all the data in the `hivesampletable`."
   ]
  },
  {
   "cell_type": "code",
   "execution_count": null,
   "metadata": {
    "collapsed": false
   },
   "outputs": [],
   "source": [
    "# hivesampletabledf is a dataframe\n",
    "hivesampletabledf = sqlContext.table('hivesampletable')"
   ]
  },
  {
   "cell_type": "markdown",
   "metadata": {},
   "source": [
    "Instead, if you want to run a query on the table and return only the results as a Spark dataframe, you can do so with the `.sql()` method. In the snippet below, **hivesampletablequerydf** is a dataframe that only contains the data returned by the SQL query."
   ]
  },
  {
   "cell_type": "code",
   "execution_count": null,
   "metadata": {
    "collapsed": false,
    "scrolled": true
   },
   "outputs": [],
   "source": [
    "hivesampletablequerydf = sqlContext.sql(\"\"\"\n",
    "SELECT clientid, querytime, deviceplatform, querydwelltime \n",
    "FROM hivesampletable \n",
    "WHERE state = 'Washington' AND devicemake = 'Microsoft' AND querydwelltime > 15\n",
    "\"\"\")\n",
    "hivesampletablequerydf.show()"
   ]
  },
  {
   "cell_type": "markdown",
   "metadata": {},
   "source": [
    "-------------\n",
    "## Writing data into Hive\n",
    "\n",
    "If you have a dataframe that was created with a HiveContext and you want to persist that data to Hive, you can create a table and then insert the dataframe into the table: "
   ]
  },
  {
   "cell_type": "code",
   "execution_count": null,
   "metadata": {
    "collapsed": false
   },
   "outputs": [],
   "source": [
    "%%sql -q\n",
    "CREATE TABLE IF NOT EXISTS hivesampletablecopypy ( \n",
    "                    clientid string, \n",
    "                    querytime string, \n",
    "                    market string, \n",
    "                    deviceplatform string,\n",
    "                    devicemake string,\n",
    "                    devicemodel string,\n",
    "                    state string, \n",
    "                    country string,\n",
    "                    querydwelltime double,\n",
    "                    sessionid bigint,\n",
    "                    sessionpagevieworder bigint )"
   ]
  },
  {
   "cell_type": "code",
   "execution_count": null,
   "metadata": {
    "collapsed": false
   },
   "outputs": [],
   "source": [
    "from pyspark.sql import DataFrameWriter\n",
    "\n",
    "dfw = DataFrameWriter(hivesampletabledf)\n",
    "dfw.insertInto('hivesampletablecopypy', overwrite=True)"
   ]
  },
  {
   "cell_type": "markdown",
   "metadata": {},
   "source": [
    "Call `dfw.insertInto('hivesampletablecopy', overwrite=False)` to keep any data already in the table."
   ]
  }
 ],
 "metadata": {
  "kernelspec": {
   "display_name": "PySpark",
   "language": "",
   "name": "pysparkkernel"
  },
  "language_info": {
   "codemirror_mode": {
    "name": "python"
   },
   "mimetype": "text/x-python",
   "name": "pyspark",
   "pygments_lexer": "python2"
  }
 },
 "nbformat": 4,
 "nbformat_minor": 0
}
